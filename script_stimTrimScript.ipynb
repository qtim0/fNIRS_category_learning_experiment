{
 "cells": [
  {
   "attachments": {},
   "cell_type": "markdown",
   "metadata": {},
   "source": [
    "Script for adding the proper stim durations to the .snirf files. First we have to import the relevant libraries.\n",
    "\n",
    "//TODO extend to other files\n",
    "//TODO loop through files in a directory"
   ]
  },
  {
   "cell_type": "code",
   "execution_count": 1,
   "metadata": {},
   "outputs": [],
   "source": [
    "%reset\n",
    "from snirf import Snirf\n",
    "import numpy as np\n",
    "import pandas as pd\n",
    "import os"
   ]
  },
  {
   "cell_type": "code",
   "execution_count": 2,
   "metadata": {},
   "outputs": [
    {
     "name": "stdout",
     "output_type": "stream",
     "text": [
      "2\n",
      "3250\n"
     ]
    }
   ],
   "source": [
    "#this gets filenames, you'll have to store em in a list or something but we're almost there!!!\n",
    "filenames = []\n",
    "for file in os.listdir(\"C:/Users/user00/My Drive/category_fNIRS/exp3_analysis/snirfs_edit\"):\n",
    "    if file.endswith(\".snirf\"):\n",
    "        filenames.append(file)\n",
    "\n",
    "#print(filenames)\n",
    "print(len(filenames))\n",
    "\n",
    "tpath = \"C:\\\\Users\\\\user00\\\\My Drive\\\\category_fNIRS\\\\exp3_analysis\\\\snirfs_edit\\\\\"\n",
    "\n",
    "#declare sampling frequency\n",
    "freq = 6.25\n",
    "\n",
    "#cut index portion starting at t = 520s\n",
    "cut_i = int(520 * freq)\n",
    "print(cut_i)"
   ]
  },
  {
   "attachments": {},
   "cell_type": "markdown",
   "metadata": {},
   "source": [
    "Loop through all files and trim the first 520 seconds, validate, save."
   ]
  },
  {
   "cell_type": "code",
   "execution_count": 3,
   "metadata": {},
   "outputs": [
    {
     "name": "stdout",
     "output_type": "stream",
     "text": [
      "ebon04_CR_1.snirf\n",
      "<snirf.pysnirf2.ValidationResult object at 0x000001F28F7645E0>\n",
      "\n",
      "Found 299 OK      (hidden)\n",
      "Found 275 INFO    (hidden)\n",
      "Found 88 WARNING (hidden)\n",
      "Found 0 FATAL  \n",
      "\n",
      "File is VALID\n",
      "ebon04_CR_2.snirf\n",
      "<snirf.pysnirf2.ValidationResult object at 0x000001F28FB65A60>\n",
      "\n",
      "Found 299 OK      (hidden)\n",
      "Found 275 INFO    (hidden)\n",
      "Found 88 WARNING (hidden)\n",
      "Found 0 FATAL  \n",
      "\n",
      "File is VALID\n"
     ]
    }
   ],
   "source": [
    "#loop through and modify each file\n",
    "for i in filenames:\n",
    "\n",
    "    lpath = tpath + i  #create path to each file\n",
    "\n",
    "    dataf = Snirf(lpath, 'r+')\n",
    "\n",
    "    #cut 'time' object, starting at cut_i, ending at end of array\n",
    "    dataf.nirs[0].data[0].time = dataf.nirs[0].data[0].time[cut_i:]\n",
    "    \n",
    "    #cut 'timeseries' object, start on row cut_i, end at last row, take all columns\n",
    "    dataf.nirs[0].data[0].dataTimeSeries = dataf.nirs[0].data[0].dataTimeSeries[cut_i:,:]\n",
    "\n",
    "    #File Validation and print diagnostics\n",
    "    print(i)\n",
    "    res = dataf.validate()\n",
    "    res.display(severity=3)\n",
    "\n",
    "    #save and close the snirf file\n",
    "    dataf.save()\n",
    "    dataf.close()\n",
    "    \n",
    "\n",
    "    "
   ]
  },
  {
   "attachments": {},
   "cell_type": "markdown",
   "metadata": {},
   "source": [
    "Single sample script that will trim the first 520 seconds of each .SNIRF file."
   ]
  },
  {
   "cell_type": "code",
   "execution_count": 25,
   "metadata": {},
   "outputs": [
    {
     "data": {
      "text/plain": [
       "'c:\\\\Users\\\\user00\\\\My Drive\\\\category_fNIRS\\\\exp3_analysis\\\\snirfs_edit\\\\sample.snirf'"
      ]
     },
     "execution_count": 25,
     "metadata": {},
     "output_type": "execute_result"
    }
   ],
   "source": [
    "#get path\n",
    "tpath = os.getcwd()\n",
    "tpath = tpath + '\\\\sample.snirf'\n",
    "tpath"
   ]
  },
  {
   "cell_type": "code",
   "execution_count": 26,
   "metadata": {},
   "outputs": [],
   "source": [
    "#read in the snirf file\n",
    "dfile = Snirf(tpath, 'r+')"
   ]
  },
  {
   "cell_type": "code",
   "execution_count": 27,
   "metadata": {},
   "outputs": [
    {
     "name": "stdout",
     "output_type": "stream",
     "text": [
      "3250\n"
     ]
    }
   ],
   "source": [
    "#declare sampling frequency\n",
    "freq = 6.25\n",
    "\n",
    "#cut index portion starting at t = 520s\n",
    "cut_i = int(520 * freq)\n",
    "print(cut_i)"
   ]
  },
  {
   "attachments": {},
   "cell_type": "markdown",
   "metadata": {},
   "source": [
    "//TODO \n",
    "\n",
    "your job is to trim both the .time and the .dataTimeSeries objects from s = 500 to end of file.\n",
    "Then loop so that this is done with every single file\n",
    "that will hopefully fix the bad glm results.\n",
    "or we will see rip."
   ]
  },
  {
   "cell_type": "code",
   "execution_count": 28,
   "metadata": {},
   "outputs": [
    {
     "name": "stdout",
     "output_type": "stream",
     "text": [
      "4439\n"
     ]
    }
   ],
   "source": [
    "#View 'time' object\n",
    "dfile.nirs[0].data[0].time\n",
    "\n",
    "#cut 'time' object, starting at cut_i, ending at end of array\n",
    "dfile.nirs[0].data[0].time = dfile.nirs[0].data[0].time[cut_i:]\n",
    "print(len(dfile.nirs[0].data[0].time))"
   ]
  },
  {
   "cell_type": "code",
   "execution_count": 29,
   "metadata": {},
   "outputs": [
    {
     "data": {
      "text/plain": [
       "(4439, 44)"
      ]
     },
     "execution_count": 29,
     "metadata": {},
     "output_type": "execute_result"
    }
   ],
   "source": [
    "#View 'timeseries' (data) object\n",
    "dfile.nirs[0].data[0].dataTimeSeries\n",
    "\n",
    "#cut 'timeseries' object, start on row cut_i, end at last row, take all columns\n",
    "dfile.nirs[0].data[0].dataTimeSeries = dfile.nirs[0].data[0].dataTimeSeries[cut_i:,:]\n",
    "np.shape(dfile.nirs[0].data[0].dataTimeSeries)"
   ]
  },
  {
   "cell_type": "code",
   "execution_count": 30,
   "metadata": {},
   "outputs": [
    {
     "name": "stdout",
     "output_type": "stream",
     "text": [
      "<snirf.pysnirf2.ValidationResult object at 0x000001F09CF30EE0>\n",
      "\n",
      "Found 299 OK      (hidden)\n",
      "Found 275 INFO    (hidden)\n",
      "Found 88 WARNING (hidden)\n",
      "Found 0 FATAL  \n",
      "\n",
      "File is VALID\n"
     ]
    }
   ],
   "source": [
    "#File Validation\n",
    "res = dfile.validate()\n",
    "res.display(severity=3)"
   ]
  },
  {
   "cell_type": "code",
   "execution_count": 31,
   "metadata": {},
   "outputs": [],
   "source": [
    "#save and close the snirf file\n",
    "dfile.save()\n",
    "dfile.close()"
   ]
  }
 ],
 "metadata": {
  "kernelspec": {
   "display_name": "base",
   "language": "python",
   "name": "python3"
  },
  "language_info": {
   "codemirror_mode": {
    "name": "ipython",
    "version": 3
   },
   "file_extension": ".py",
   "mimetype": "text/x-python",
   "name": "python",
   "nbconvert_exporter": "python",
   "pygments_lexer": "ipython3",
   "version": "3.9.13"
  },
  "orig_nbformat": 4,
  "vscode": {
   "interpreter": {
    "hash": "e261890ef2a362930b2f54f5ab6e0fb03c1cc4ead29289865c382502fa9aa278"
   }
  }
 },
 "nbformat": 4,
 "nbformat_minor": 2
}
